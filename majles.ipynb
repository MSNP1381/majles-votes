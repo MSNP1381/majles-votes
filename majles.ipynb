{
 "cells": [
  {
   "cell_type": "code",
   "execution_count": 11,
   "metadata": {},
   "outputs": [],
   "source": [
    "import bs4\n",
    "import jdatetime\n",
    "import json\n",
    "import wget,os\n",
    "from jdatetime import date\n",
    "import pandas as pd"
   ]
  },
  {
   "cell_type": "code",
   "execution_count": 12,
   "metadata": {},
   "outputs": [],
   "source": [
    "base_url='https://trvotes.parliran.ir'"
   ]
  },
  {
   "cell_type": "code",
   "execution_count": 13,
   "metadata": {},
   "outputs": [
    {
     "name": "stderr",
     "output_type": "stream",
     "text": [
      "c:\\Users\\msnp\\anaconda3\\Lib\\site-packages\\urllib3\\connectionpool.py:1056: InsecureRequestWarning: Unverified HTTPS request is being made to host 'trvotes.parliran.ir'. Adding certificate verification is strongly advised. See: https://urllib3.readthedocs.io/en/1.26.x/advanced-usage.html#ssl-warnings\n",
      "  warnings.warn(\n"
     ]
    }
   ],
   "source": [
    "import requests\n",
    "\n",
    "cookies = {\n",
    "    \"_ga\": \"GA1.1.180246938.1693921998\",\n",
    "    \"_ga_1X68XESZ48\": \"GS1.1.1694898322.8.1.1694898975.0.0.0\",\n",
    "    \"__RequestVerificationToken\": \"PHmzcFNrFtyFpu7HwJSfbNpA7KO5AEqmZCQr24aQ4XryxRn6cFFkJDDeGcuanJ8kzzYFnOQFliUsHm5k36Yv4g4bwgQ1pNfZMM7evLtDC3E1\",\n",
    "    \"AHAS\": \"qnwx3zdternqxkesa1w1df5p\",\n",
    "}\n",
    "\n",
    "headers = {\n",
    "    \"Accept\": \"text/html,application/xhtml+xml,application/xml;q=0.9,image/webp,image/apng,*/*;q=0.8,application/signed-exchange;v=b3;q=0.7\",\n",
    "    \"Accept-Language\": \"en-US,en;q=0.9\",\n",
    "    \"Cache-Control\": \"max-age=0\",\n",
    "    \"Connection\": \"keep-alive\",\n",
    "    \"Content-Type\": \"multipart/form-data; boundary=----WebKitFormBoundaryL34cAhyYd4BIn2Qi\",\n",
    "    # 'Cookie': '_ga=GA1.1.180246938.1693921998; _ga_1X68XESZ48=GS1.1.1694898322.8.1.1694898975.0.0.0; __RequestVerificationToken=PHmzcFNrFtyFpu7HwJSfbNpA7KO5AEqmZCQr24aQ4XryxRn6cFFkJDDeGcuanJ8kzzYFnOQFliUsHm5k36Yv4g4bwgQ1pNfZMM7evLtDC3E1; AHAS=qnwx3zdternqxkesa1w1df5p',\n",
    "    \"Origin\": \"https://trvotes.parliran.ir\",\n",
    "    \"Referer\": \"https://trvotes.parliran.ir/\",\n",
    "    \"Sec-Fetch-Dest\": \"document\",\n",
    "    \"Sec-Fetch-Mode\": \"navigate\",\n",
    "    \"Sec-Fetch-Site\": \"same-origin\",\n",
    "    \"Sec-Fetch-User\": \"?1\",\n",
    "    \"Upgrade-Insecure-Requests\": \"1\",\n",
    "    \"User-Agent\": \"Mozilla/5.0 (Windows NT 10.0; Win64; x64) AppleWebKit/537.36 (KHTML, like Gecko) Chrome/116.0.0.0 Safari/537.36 Edg/116.0.1938.81\",\n",
    "    \"sec-ch-ua\": '\"Chromium\";v=\"116\", \"Not)A;Brand\";v=\"24\", \"Microsoft Edge\";v=\"116\"',\n",
    "    \"sec-ch-ua-mobile\": \"?0\",\n",
    "    \"sec-ch-ua-platform\": '\"Windows\"',\n",
    "}\n",
    "today = date.today().strftime(\"%Y/%m/%d\")\n",
    "data = f'------WebKitFormBoundaryL34cAhyYd4BIn2Qi\\r\\nContent-Disposition: form-data; name=\"__RequestVerificationToken\"\\r\\n\\r\\nF3xgpM9aQ2c2EMDMrmaQz7nzHqqbo_wyMdcwauvgnOICPqwnaIuVTa_FsxK7MGjUWJx7Ef0DTSwbGZXv1Cc2aMcY02T0H-2ayC5ZR3HW62w1\\r\\n------WebKitFormBoundaryL34cAhyYd4BIn2Qi\\r\\nContent-Disposition: form-data; name=\"StartTime\"\\r\\n\\r\\n1401/06/26\\r\\n------WebKitFormBoundaryL34cAhyYd4BIn2Qi\\r\\nContent-Disposition: form-data; name=\"EndTime\"\\r\\n\\r\\n{today}\\r\\n------WebKitFormBoundaryL34cAhyYd4BIn2Qi\\r\\nContent-Disposition: form-data; name=\"myTable_length\"\\r\\n\\r\\n50\\r\\n------WebKitFormBoundaryL34cAhyYd4BIn2Qi--\\r\\n'\n",
    "\n",
    "response = requests.post(\n",
    "    \"https://trvotes.parliran.ir/\",\n",
    "    cookies=cookies,\n",
    "    headers=headers,\n",
    "    data=data,\n",
    "    verify=False,\n",
    ")\n",
    "with open(\n",
    "    \"index.html\",\n",
    "    \"wb\",\n",
    ") as f:\n",
    "    f.write(response.content)"
   ]
  },
  {
   "cell_type": "code",
   "execution_count": 14,
   "metadata": {},
   "outputs": [],
   "source": [
    "with open(\"index.html\", 'r',encoding='utf8') as f:\n",
    "    webpage = f.read()"
   ]
  },
  {
   "cell_type": "code",
   "execution_count": 15,
   "metadata": {},
   "outputs": [],
   "source": [
    "soup = bs4.BeautifulSoup(webpage)"
   ]
  },
  {
   "cell_type": "code",
   "execution_count": 16,
   "metadata": {},
   "outputs": [],
   "source": [
    "votes=soup.find_all('tr')[1:]"
   ]
  },
  {
   "cell_type": "code",
   "execution_count": 17,
   "metadata": {},
   "outputs": [],
   "source": [
    "from datetime import datetime\n",
    "votes_parsed = []\n",
    "date_range = [\"1402/06/23\", \"1500/01/01\"]\n",
    "from_,to_=map(lambda time:jdatetime.datetime.strptime(time,\"%Y/%m/%d\").timestamp(),date_range)\n",
    "for vote in votes:\n",
    "\n",
    "    title, time, url = vote.findAll(\"td\")\n",
    "    title = \" \".join(title.text.split())\n",
    "    time = time.text.replace(\"\\n\", \"\").replace(\" \", \"\")\n",
    "    time_=jdatetime.datetime.strptime(time,'%Y/%m/%d').timestamp()\n",
    "    if not(time_>=from_ and time_<=to_ ):continue\n",
    "    url = base_url + url.find(\"a\")[\"href\"]\n",
    "    votes_parsed.append({\"title\": title, \"time\": time, \"url\": url})"
   ]
  },
  {
   "cell_type": "code",
   "execution_count": 21,
   "metadata": {},
   "outputs": [
    {
     "data": {
      "text/plain": [
       "[]"
      ]
     },
     "execution_count": 21,
     "metadata": {},
     "output_type": "execute_result"
    }
   ],
   "source": [
    "l=[i.split(\".\")[0] for i in os.listdir(\"pages\")]\n",
    "ids=[i['url'].split('/')[-1] for i in votes_parsed]\n",
    "not_downloaded=[]\n",
    "for i in ids:\n",
    "    if not i in l:\n",
    "        not_downloaded.append(i)\n",
    "not_downloaded"
   ]
  },
  {
   "cell_type": "code",
   "execution_count": 18,
   "metadata": {},
   "outputs": [],
   "source": [
    "with open(\"parsed.json\", \"w\", encoding=\"utf8\") as f:\n",
    "    t = json.dumps(votes_parsed, ensure_ascii=False)\n",
    "    f.write(t)"
   ]
  },
  {
   "cell_type": "code",
   "execution_count": 13,
   "metadata": {},
   "outputs": [],
   "source": [
    "import asyncio\n",
    "import aiohttp\n",
    "import tqdm\n",
    "\n",
    "async def get_urls_async(urls):\n",
    "    for url,link in tqdm.tqdm(urls):\n",
    "        await get_url(url,link)\n",
    "    \n",
    "\n",
    "async def get_url(url,name):\n",
    "    async with aiohttp.ClientSession() as session:\n",
    "        async with session.get(url) as response:\n",
    "            print(f\"Fetched {url}\")\n",
    "            t = await response.text()\n",
    "            with open(f'pages/{name}.html','w',encoding='utf8')as f:\n",
    "                print(f'pages/{name}.html')\n",
    "                f.write(t)"
   ]
  },
  {
   "cell_type": "code",
   "execution_count": 14,
   "metadata": {},
   "outputs": [
    {
     "name": "stderr",
     "output_type": "stream",
     "text": [
      "100%|██████████| 162/162 [04:00<00:00,  1.48s/it]\n"
     ]
    }
   ],
   "source": [
    "urls=[]\n",
    "for vot in tqdm.tqdm(votes_parsed):\n",
    "   id=vot['url'].split('/')[-1]\n",
    "   wget.download(vot['url'],out=f'pages/{id}.html')"
   ]
  },
  {
   "cell_type": "code",
   "execution_count": 24,
   "metadata": {},
   "outputs": [
    {
     "name": "stderr",
     "output_type": "stream",
     "text": [
      "100%|██████████| 162/162 [00:00<?, ?it/s]\n",
      "  1%|          | 1/162 [00:13<36:28, 13.59s/it]"
     ]
    },
    {
     "name": "stdout",
     "output_type": "stream",
     "text": [
      "Fetched https://trvotes.parliran.ir/Home/FDetailes/860\n",
      "pages/860.html\n"
     ]
    },
    {
     "name": "stderr",
     "output_type": "stream",
     "text": [
      "  1%|          | 2/162 [00:15<17:17,  6.49s/it]"
     ]
    },
    {
     "name": "stdout",
     "output_type": "stream",
     "text": [
      "Fetched https://trvotes.parliran.ir/Home/FDetailes/861\n",
      "pages/861.html\n"
     ]
    },
    {
     "name": "stderr",
     "output_type": "stream",
     "text": [
      "  2%|▏         | 3/162 [00:16<11:14,  4.24s/it]"
     ]
    },
    {
     "name": "stdout",
     "output_type": "stream",
     "text": [
      "Fetched https://trvotes.parliran.ir/Home/FDetailes/862\n",
      "pages/862.html\n"
     ]
    },
    {
     "name": "stderr",
     "output_type": "stream",
     "text": [
      "  2%|▏         | 3/162 [00:18<16:36,  6.27s/it]\n"
     ]
    },
    {
     "ename": "ClientOSError",
     "evalue": "[WinError 10054] An existing connection was forcibly closed by the remote host",
     "output_type": "error",
     "traceback": [
      "\u001b[1;31m---------------------------------------------------------------------------\u001b[0m",
      "\u001b[1;31mClientOSError\u001b[0m                             Traceback (most recent call last)",
      "\u001b[1;32mc:\\Users\\msnp\\Desktop\\majles\\majles.ipynb Cell 11\u001b[0m line \u001b[0;36m8\n\u001b[0;32m      <a href='vscode-notebook-cell:/c%3A/Users/msnp/Desktop/majles/majles.ipynb#X11sZmlsZQ%3D%3D?line=5'>6</a>\u001b[0m    \u001b[39mid\u001b[39m\u001b[39m=\u001b[39mvot[\u001b[39m'\u001b[39m\u001b[39murl\u001b[39m\u001b[39m'\u001b[39m]\u001b[39m.\u001b[39msplit(\u001b[39m'\u001b[39m\u001b[39m/\u001b[39m\u001b[39m'\u001b[39m)[\u001b[39m-\u001b[39m\u001b[39m1\u001b[39m]\n\u001b[0;32m      <a href='vscode-notebook-cell:/c%3A/Users/msnp/Desktop/majles/majles.ipynb#X11sZmlsZQ%3D%3D?line=6'>7</a>\u001b[0m    urls\u001b[39m.\u001b[39mappend([vot[\u001b[39m'\u001b[39m\u001b[39murl\u001b[39m\u001b[39m'\u001b[39m],\u001b[39mid\u001b[39m])\n\u001b[1;32m----> <a href='vscode-notebook-cell:/c%3A/Users/msnp/Desktop/majles/majles.ipynb#X11sZmlsZQ%3D%3D?line=7'>8</a>\u001b[0m \u001b[39mawait\u001b[39;00m get_urls_async(urls)\n",
      "\u001b[1;32mc:\\Users\\msnp\\Desktop\\majles\\majles.ipynb Cell 11\u001b[0m line \u001b[0;36m7\n\u001b[0;32m      <a href='vscode-notebook-cell:/c%3A/Users/msnp/Desktop/majles/majles.ipynb#X11sZmlsZQ%3D%3D?line=4'>5</a>\u001b[0m \u001b[39masync\u001b[39;00m \u001b[39mdef\u001b[39;00m \u001b[39mget_urls_async\u001b[39m(urls):\n\u001b[0;32m      <a href='vscode-notebook-cell:/c%3A/Users/msnp/Desktop/majles/majles.ipynb#X11sZmlsZQ%3D%3D?line=5'>6</a>\u001b[0m     \u001b[39mfor\u001b[39;00m url,link \u001b[39min\u001b[39;00m tqdm\u001b[39m.\u001b[39mtqdm(urls):\n\u001b[1;32m----> <a href='vscode-notebook-cell:/c%3A/Users/msnp/Desktop/majles/majles.ipynb#X11sZmlsZQ%3D%3D?line=6'>7</a>\u001b[0m         \u001b[39mawait\u001b[39;00m get_url(url,link)\n",
      "\u001b[1;32mc:\\Users\\msnp\\Desktop\\majles\\majles.ipynb Cell 11\u001b[0m line \u001b[0;36m1\n\u001b[0;32m     <a href='vscode-notebook-cell:/c%3A/Users/msnp/Desktop/majles/majles.ipynb#X11sZmlsZQ%3D%3D?line=9'>10</a>\u001b[0m \u001b[39masync\u001b[39;00m \u001b[39mdef\u001b[39;00m \u001b[39mget_url\u001b[39m(url,name):\n\u001b[0;32m     <a href='vscode-notebook-cell:/c%3A/Users/msnp/Desktop/majles/majles.ipynb#X11sZmlsZQ%3D%3D?line=10'>11</a>\u001b[0m     \u001b[39masync\u001b[39;00m \u001b[39mwith\u001b[39;00m aiohttp\u001b[39m.\u001b[39mClientSession() \u001b[39mas\u001b[39;00m session:\n\u001b[1;32m---> <a href='vscode-notebook-cell:/c%3A/Users/msnp/Desktop/majles/majles.ipynb#X11sZmlsZQ%3D%3D?line=11'>12</a>\u001b[0m         \u001b[39masync\u001b[39;00m \u001b[39mwith\u001b[39;00m session\u001b[39m.\u001b[39mget(url) \u001b[39mas\u001b[39;00m response:\n\u001b[0;32m     <a href='vscode-notebook-cell:/c%3A/Users/msnp/Desktop/majles/majles.ipynb#X11sZmlsZQ%3D%3D?line=12'>13</a>\u001b[0m             \u001b[39mprint\u001b[39m(\u001b[39mf\u001b[39m\u001b[39m\"\u001b[39m\u001b[39mFetched \u001b[39m\u001b[39m{\u001b[39;00murl\u001b[39m}\u001b[39;00m\u001b[39m\"\u001b[39m)\n\u001b[0;32m     <a href='vscode-notebook-cell:/c%3A/Users/msnp/Desktop/majles/majles.ipynb#X11sZmlsZQ%3D%3D?line=13'>14</a>\u001b[0m             t \u001b[39m=\u001b[39m \u001b[39mawait\u001b[39;00m response\u001b[39m.\u001b[39mtext()\n",
      "File \u001b[1;32mc:\\Users\\msnp\\anaconda3\\Lib\\site-packages\\aiohttp\\client.py:1141\u001b[0m, in \u001b[0;36m_BaseRequestContextManager.__aenter__\u001b[1;34m(self)\u001b[0m\n\u001b[0;32m   1140\u001b[0m \u001b[39masync\u001b[39;00m \u001b[39mdef\u001b[39;00m \u001b[39m__aenter__\u001b[39m(\u001b[39mself\u001b[39m) \u001b[39m-\u001b[39m\u001b[39m>\u001b[39m _RetType:\n\u001b[1;32m-> 1141\u001b[0m     \u001b[39mself\u001b[39m\u001b[39m.\u001b[39m_resp \u001b[39m=\u001b[39m \u001b[39mawait\u001b[39;00m \u001b[39mself\u001b[39m\u001b[39m.\u001b[39m_coro\n\u001b[0;32m   1142\u001b[0m     \u001b[39mreturn\u001b[39;00m \u001b[39mself\u001b[39m\u001b[39m.\u001b[39m_resp\n",
      "File \u001b[1;32mc:\\Users\\msnp\\anaconda3\\Lib\\site-packages\\aiohttp\\client.py:560\u001b[0m, in \u001b[0;36mClientSession._request\u001b[1;34m(self, method, str_or_url, params, data, json, cookies, headers, skip_auto_headers, auth, allow_redirects, max_redirects, compress, chunked, expect100, raise_for_status, read_until_eof, proxy, proxy_auth, timeout, verify_ssl, fingerprint, ssl_context, ssl, proxy_headers, trace_request_ctx, read_bufsize)\u001b[0m\n\u001b[0;32m    558\u001b[0m resp \u001b[39m=\u001b[39m \u001b[39mawait\u001b[39;00m req\u001b[39m.\u001b[39msend(conn)\n\u001b[0;32m    559\u001b[0m \u001b[39mtry\u001b[39;00m:\n\u001b[1;32m--> 560\u001b[0m     \u001b[39mawait\u001b[39;00m resp\u001b[39m.\u001b[39mstart(conn)\n\u001b[0;32m    561\u001b[0m \u001b[39mexcept\u001b[39;00m \u001b[39mBaseException\u001b[39;00m:\n\u001b[0;32m    562\u001b[0m     resp\u001b[39m.\u001b[39mclose()\n",
      "File \u001b[1;32mc:\\Users\\msnp\\anaconda3\\Lib\\site-packages\\aiohttp\\client_reqrep.py:899\u001b[0m, in \u001b[0;36mClientResponse.start\u001b[1;34m(self, connection)\u001b[0m\n\u001b[0;32m    897\u001b[0m \u001b[39mtry\u001b[39;00m:\n\u001b[0;32m    898\u001b[0m     protocol \u001b[39m=\u001b[39m \u001b[39mself\u001b[39m\u001b[39m.\u001b[39m_protocol\n\u001b[1;32m--> 899\u001b[0m     message, payload \u001b[39m=\u001b[39m \u001b[39mawait\u001b[39;00m protocol\u001b[39m.\u001b[39mread()  \u001b[39m# type: ignore[union-attr]\u001b[39;00m\n\u001b[0;32m    900\u001b[0m \u001b[39mexcept\u001b[39;00m http\u001b[39m.\u001b[39mHttpProcessingError \u001b[39mas\u001b[39;00m exc:\n\u001b[0;32m    901\u001b[0m     \u001b[39mraise\u001b[39;00m ClientResponseError(\n\u001b[0;32m    902\u001b[0m         \u001b[39mself\u001b[39m\u001b[39m.\u001b[39mrequest_info,\n\u001b[0;32m    903\u001b[0m         \u001b[39mself\u001b[39m\u001b[39m.\u001b[39mhistory,\n\u001b[1;32m   (...)\u001b[0m\n\u001b[0;32m    906\u001b[0m         headers\u001b[39m=\u001b[39mexc\u001b[39m.\u001b[39mheaders,\n\u001b[0;32m    907\u001b[0m     ) \u001b[39mfrom\u001b[39;00m \u001b[39mexc\u001b[39;00m\n",
      "File \u001b[1;32mc:\\Users\\msnp\\anaconda3\\Lib\\site-packages\\aiohttp\\streams.py:616\u001b[0m, in \u001b[0;36mDataQueue.read\u001b[1;34m(self)\u001b[0m\n\u001b[0;32m    614\u001b[0m \u001b[39mself\u001b[39m\u001b[39m.\u001b[39m_waiter \u001b[39m=\u001b[39m \u001b[39mself\u001b[39m\u001b[39m.\u001b[39m_loop\u001b[39m.\u001b[39mcreate_future()\n\u001b[0;32m    615\u001b[0m \u001b[39mtry\u001b[39;00m:\n\u001b[1;32m--> 616\u001b[0m     \u001b[39mawait\u001b[39;00m \u001b[39mself\u001b[39m\u001b[39m.\u001b[39m_waiter\n\u001b[0;32m    617\u001b[0m \u001b[39mexcept\u001b[39;00m (asyncio\u001b[39m.\u001b[39mCancelledError, asyncio\u001b[39m.\u001b[39mTimeoutError):\n\u001b[0;32m    618\u001b[0m     \u001b[39mself\u001b[39m\u001b[39m.\u001b[39m_waiter \u001b[39m=\u001b[39m \u001b[39mNone\u001b[39;00m\n",
      "\u001b[1;31mClientOSError\u001b[0m: [WinError 10054] An existing connection was forcibly closed by the remote host"
     ]
    }
   ],
   "source": [
    "import tqdm\n",
    "# votes_parsed=filter(lambda x:  int(vot['time'].replace(\"/\",''))\n",
    "#   <=14020523,votes_parsed)\n",
    "urls=[]\n",
    "for vot in tqdm.tqdm(votes_parsed):\n",
    "   id=vot['url'].split('/')[-1]\n",
    "   urls.append([vot['url'],id])\n",
    "await get_urls_async(urls)\n"
   ]
  },
  {
   "cell_type": "code",
   "execution_count": 4,
   "metadata": {
    "editable": true,
    "scrolled": true,
    "slideshow": {
     "slide_type": ""
    },
    "tags": []
   },
   "outputs": [
    {
     "name": "stdout",
     "output_type": "stream",
     "text": [
      "10.html\n"
     ]
    },
    {
     "ename": "NameError",
     "evalue": "name 'bs4' is not defined",
     "output_type": "error",
     "traceback": [
      "\u001b[1;31m---------------------------------------------------------------------------\u001b[0m",
      "\u001b[1;31mNameError\u001b[0m                                 Traceback (most recent call last)",
      "\u001b[1;32mc:\\Users\\msnp\\Desktop\\majles\\majles.ipynb Cell 12\u001b[0m line \u001b[0;36m1\n\u001b[0;32m      <a href='vscode-notebook-cell:/c%3A/Users/msnp/Desktop/majles/majles.ipynb#X12sZmlsZQ%3D%3D?line=7'>8</a>\u001b[0m webpage\u001b[39m.\u001b[39mreplace(\u001b[39m\"\u001b[39m\u001b[39m\\\\\u001b[39;00m\u001b[39mu200c\u001b[39m\u001b[39m\"\u001b[39m,\u001b[39m'\u001b[39m\u001b[39m'\u001b[39m)\n\u001b[0;32m      <a href='vscode-notebook-cell:/c%3A/Users/msnp/Desktop/majles/majles.ipynb#X12sZmlsZQ%3D%3D?line=8'>9</a>\u001b[0m \u001b[39mprint\u001b[39m(page)\n\u001b[1;32m---> <a href='vscode-notebook-cell:/c%3A/Users/msnp/Desktop/majles/majles.ipynb#X12sZmlsZQ%3D%3D?line=9'>10</a>\u001b[0m soup \u001b[39m=\u001b[39m bs4\u001b[39m.\u001b[39mBeautifulSoup(webpage)\n\u001b[0;32m     <a href='vscode-notebook-cell:/c%3A/Users/msnp/Desktop/majles/majles.ipynb#X12sZmlsZQ%3D%3D?line=10'>11</a>\u001b[0m \u001b[39mbreak\u001b[39;00m\n",
      "\u001b[1;31mNameError\u001b[0m: name 'bs4' is not defined"
     ]
    }
   ],
   "source": [
    "import os\n",
    "\n",
    "\n",
    "members=dict()\n",
    "for page in os.listdir('pages/'):\n",
    "    with open(f\"pages/{page}\", 'r',encoding='utf8') as f:\n",
    "        webpage = f.read()\n",
    "        webpage.replace(\"\\\\u200c\",'')\n",
    "        print(page)\n",
    "        soup = bs4.BeautifulSoup(webpage)\n",
    "        break\n",
    "        "
   ]
  },
  {
   "cell_type": "code",
   "execution_count": 5,
   "metadata": {},
   "outputs": [
    {
     "ename": "NameError",
     "evalue": "name 'soup' is not defined",
     "output_type": "error",
     "traceback": [
      "\u001b[1;31m---------------------------------------------------------------------------\u001b[0m",
      "\u001b[1;31mNameError\u001b[0m                                 Traceback (most recent call last)",
      "\u001b[1;32mc:\\Users\\msnp\\Desktop\\majles\\majles.ipynb Cell 13\u001b[0m line \u001b[0;36m4\n\u001b[0;32m     <a href='vscode-notebook-cell:/c%3A/Users/msnp/Desktop/majles/majles.ipynb#X13sZmlsZQ%3D%3D?line=41'>42</a>\u001b[0m         votes\u001b[39m.\u001b[39mappend(d)\n\u001b[0;32m     <a href='vscode-notebook-cell:/c%3A/Users/msnp/Desktop/majles/majles.ipynb#X13sZmlsZQ%3D%3D?line=42'>43</a>\u001b[0m     \u001b[39mreturn\u001b[39;00m [favor,against,abstaining,date_ ,members_count,votes]\n\u001b[1;32m---> <a href='vscode-notebook-cell:/c%3A/Users/msnp/Desktop/majles/majles.ipynb#X13sZmlsZQ%3D%3D?line=43'>44</a>\u001b[0m get_day_data(soup,\u001b[39m'\u001b[39m\u001b[39m//\u001b[39m\u001b[39m'\u001b[39m)\n",
      "\u001b[1;31mNameError\u001b[0m: name 'soup' is not defined"
     ]
    }
   ],
   "source": [
    "stat_dict={\n",
    "            '----':'absence',\n",
    "            'عدم مشارکت':\"non-participant\",\n",
    "            'مخالف':'against',\n",
    "            'موافق':'favor',\n",
    "            'ممتنع':'abstaining'\n",
    "        }\n",
    "def get_day_data(soup,date_:str):\n",
    "    vote_title=soup.select_one('#page-wrapper > div.row > div.col-lg-12 > div > div.panel-footer').text\n",
    "    vote_title=' '.join( vote_title.split())\n",
    "    stats=soup.select('.inner h3')\n",
    "    favor,against,abstaining ,members_count=map(lambda x: x.text,stats)\n",
    "    data=soup.find_all('tr')[1:]\n",
    "    votes=[]\n",
    "    for row in data:\n",
    "        row=row.find_all('th')\n",
    "\n",
    "        img_url=row[0].find('img')['src']\n",
    "        mem_id=img_url.split('/')[-1].split('.')[0]\n",
    "        if os.path.exists(f'images/{img_url.split(\"/\")[-1]}')== False:\n",
    "            wget.download(base_url+img_url,f'images/{img_url.split(\"/\")[-1]}')\n",
    "        family_city=' '.join(row[2].text.split())\n",
    "        paran=family_city.index('(')\n",
    "\n",
    "        \n",
    "\n",
    "        d={\n",
    "        'img_url':img_url,\n",
    "        'id':mem_id,\n",
    "        'name':' '.join(row[1].text.split()),\n",
    "        'date':date_,\n",
    "        'family_city':family_city,\n",
    "        'family':family_city[:paran],\n",
    "        'city':family_city[paran:].replace('(','').replace(')',''),\n",
    "        'stat':stat_dict[ ' '.join(row[4].text.split())]\n",
    "        }\n",
    "        if d['id'] not in members:\n",
    "            members[d['id']]=[\n",
    "                d['name'],\n",
    "                d['family'],\n",
    "                d['city']]\n",
    "        votes.append(d)\n",
    "    return [favor,against,abstaining,date_ ,members_count,votes]\n",
    "get_day_data(soup,'//')"
   ]
  },
  {
   "cell_type": "code",
   "execution_count": 10,
   "metadata": {},
   "outputs": [
    {
     "data": {
      "text/plain": [
       "79"
      ]
     },
     "execution_count": 10,
     "metadata": {},
     "output_type": "execute_result"
    }
   ],
   "source": [
    "soup.find_all('tr')[1:].__len__()"
   ]
  },
  {
   "cell_type": "code",
   "execution_count": 10,
   "metadata": {},
   "outputs": [
    {
     "data": {
      "text/plain": [
       "[None, None]"
      ]
     },
     "execution_count": 10,
     "metadata": {},
     "output_type": "execute_result"
    }
   ],
   "source": [
    "l=list(filter(lambda x:\" \" in x or not x.endswith(\".html\"), os.listdir(\"pages\")))\n",
    "[os.remove(\"pages/\"+i) for i in l]"
   ]
  },
  {
   "cell_type": "code",
   "execution_count": null,
   "metadata": {},
   "outputs": [],
   "source": []
  }
 ],
 "metadata": {
  "interpreter": {
   "hash": "deffa21a5db72cc77027fafb760c8b9d8ec6d0843b8d14fb96b09bf796c71ce7"
  },
  "kernelspec": {
   "display_name": "Python 3 (ipykernel)",
   "language": "python",
   "name": "python3"
  },
  "language_info": {
   "codemirror_mode": {
    "name": "ipython",
    "version": 3
   },
   "file_extension": ".py",
   "mimetype": "text/x-python",
   "name": "python",
   "nbconvert_exporter": "python",
   "pygments_lexer": "ipython3",
   "version": "3.11.4"
  }
 },
 "nbformat": 4,
 "nbformat_minor": 4
}
