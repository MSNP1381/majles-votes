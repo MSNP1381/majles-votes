{
 "cells": [
  {
   "cell_type": "code",
   "execution_count": 30,
   "metadata": {},
   "outputs": [],
   "source": [
    "import bs4\n",
    "import jdatetime\n",
    "import json\n",
    "import wget\n",
    "from jdatetime import date\n",
    "import pandas as pd"
   ]
  },
  {
   "cell_type": "code",
   "execution_count": 2,
   "metadata": {},
   "outputs": [],
   "source": [
    "base_url='https://trvotes.parliran.ir'"
   ]
  },
  {
   "cell_type": "code",
   "execution_count": 24,
   "metadata": {},
   "outputs": [
    {
     "name": "stderr",
     "output_type": "stream",
     "text": [
      "c:\\Users\\muhammadS\\AppData\\Local\\Programs\\Python\\Python310\\lib\\site-packages\\urllib3\\connectionpool.py:1095: InsecureRequestWarning: Unverified HTTPS request is being made to host 'trvotes.parliran.ir'. Adding certificate verification is strongly advised. See: https://urllib3.readthedocs.io/en/latest/advanced-usage.html#tls-warnings\n",
      "  warnings.warn(\n"
     ]
    }
   ],
   "source": [
    "import requests\n",
    "\n",
    "cookies = {\n",
    "    '_ga': 'GA1.1.180246938.1693921998',\n",
    "    '_ga_1X68XESZ48': 'GS1.1.1694898322.8.1.1694898975.0.0.0',\n",
    "    '__RequestVerificationToken': 'PHmzcFNrFtyFpu7HwJSfbNpA7KO5AEqmZCQr24aQ4XryxRn6cFFkJDDeGcuanJ8kzzYFnOQFliUsHm5k36Yv4g4bwgQ1pNfZMM7evLtDC3E1',\n",
    "    'AHAS': 'qnwx3zdternqxkesa1w1df5p',\n",
    "}\n",
    "\n",
    "headers = {\n",
    "    'Accept': 'text/html,application/xhtml+xml,application/xml;q=0.9,image/webp,image/apng,*/*;q=0.8,application/signed-exchange;v=b3;q=0.7',\n",
    "    'Accept-Language': 'en-US,en;q=0.9',\n",
    "    'Cache-Control': 'max-age=0',\n",
    "    'Connection': 'keep-alive',\n",
    "    'Content-Type': 'multipart/form-data; boundary=----WebKitFormBoundaryL34cAhyYd4BIn2Qi',\n",
    "    # 'Cookie': '_ga=GA1.1.180246938.1693921998; _ga_1X68XESZ48=GS1.1.1694898322.8.1.1694898975.0.0.0; __RequestVerificationToken=PHmzcFNrFtyFpu7HwJSfbNpA7KO5AEqmZCQr24aQ4XryxRn6cFFkJDDeGcuanJ8kzzYFnOQFliUsHm5k36Yv4g4bwgQ1pNfZMM7evLtDC3E1; AHAS=qnwx3zdternqxkesa1w1df5p',\n",
    "    'Origin': 'https://trvotes.parliran.ir',\n",
    "    'Referer': 'https://trvotes.parliran.ir/',\n",
    "    'Sec-Fetch-Dest': 'document',\n",
    "    'Sec-Fetch-Mode': 'navigate',\n",
    "    'Sec-Fetch-Site': 'same-origin',\n",
    "    'Sec-Fetch-User': '?1',\n",
    "    'Upgrade-Insecure-Requests': '1',\n",
    "    'User-Agent': 'Mozilla/5.0 (Windows NT 10.0; Win64; x64) AppleWebKit/537.36 (KHTML, like Gecko) Chrome/116.0.0.0 Safari/537.36 Edg/116.0.1938.81',\n",
    "    'sec-ch-ua': '\"Chromium\";v=\"116\", \"Not)A;Brand\";v=\"24\", \"Microsoft Edge\";v=\"116\"',\n",
    "    'sec-ch-ua-mobile': '?0',\n",
    "    'sec-ch-ua-platform': '\"Windows\"',\n",
    "}\n",
    "today=date.today().strftime('%Y/%m/%d')\n",
    "data = f'------WebKitFormBoundaryL34cAhyYd4BIn2Qi\\r\\nContent-Disposition: form-data; name=\"__RequestVerificationToken\"\\r\\n\\r\\nF3xgpM9aQ2c2EMDMrmaQz7nzHqqbo_wyMdcwauvgnOICPqwnaIuVTa_FsxK7MGjUWJx7Ef0DTSwbGZXv1Cc2aMcY02T0H-2ayC5ZR3HW62w1\\r\\n------WebKitFormBoundaryL34cAhyYd4BIn2Qi\\r\\nContent-Disposition: form-data; name=\"StartTime\"\\r\\n\\r\\n1401/06/26\\r\\n------WebKitFormBoundaryL34cAhyYd4BIn2Qi\\r\\nContent-Disposition: form-data; name=\"EndTime\"\\r\\n\\r\\n{today}\\r\\n------WebKitFormBoundaryL34cAhyYd4BIn2Qi\\r\\nContent-Disposition: form-data; name=\"myTable_length\"\\r\\n\\r\\n50\\r\\n------WebKitFormBoundaryL34cAhyYd4BIn2Qi--\\r\\n'\n",
    "\n",
    "response = requests.post('https://trvotes.parliran.ir/', cookies=cookies, headers=headers, data=data ,verify=False)\n",
    "with open('index.html','wb',) as f:\n",
    "  f.write( response.content)"
   ]
  },
  {
   "cell_type": "code",
   "execution_count": 25,
   "metadata": {},
   "outputs": [],
   "source": [
    "with open(\"index.html\", 'r',encoding='utf8') as f:\n",
    "    webpage = f.read()"
   ]
  },
  {
   "cell_type": "code",
   "execution_count": 26,
   "metadata": {},
   "outputs": [],
   "source": [
    "soup = bs4.BeautifulSoup(webpage)"
   ]
  },
  {
   "cell_type": "code",
   "execution_count": 27,
   "metadata": {},
   "outputs": [],
   "source": [
    "votes=soup.find_all('tr')[1:]"
   ]
  },
  {
   "cell_type": "code",
   "execution_count": 28,
   "metadata": {},
   "outputs": [],
   "source": [
    "votes_parsed=[]\n",
    "for vote in votes:\n",
    "    title,time,url=vote.findAll('td')\n",
    "    title=' '.join( title.text.split())\n",
    "    time=time.text.replace('\\n','').replace(' ','')\n",
    "    # time=jdatetime.datetime.strptime(time,'%Y/%m/%d')\n",
    "    url=base_url+url.find('a')['href']\n",
    "    votes_parsed.append({'title':title,'time':time,'url':url})"
   ]
  },
  {
   "cell_type": "code",
   "execution_count": 29,
   "metadata": {},
   "outputs": [],
   "source": [
    "with open('parsed.json','w',encoding='utf8') as f:\n",
    "    t=json.dumps(votes_parsed,ensure_ascii=False)\n",
    "    f.write(t)"
   ]
  },
  {
   "cell_type": "code",
   "execution_count": 39,
   "metadata": {},
   "outputs": [
    {
     "name": "stderr",
     "output_type": "stream",
     "text": [
      "100%|██████████| 842/842 [14:08<00:00,  1.01s/it]\n"
     ]
    }
   ],
   "source": [
    "import tqdm\n",
    "# votes_parsed=filter(lambda x:  int(vot['time'].replace(\"/\",''))\n",
    "#   <=14020523,votes_parsed)\n",
    "\n",
    "for vot in tqdm.tqdm(votes_parsed):\n",
    "   id=vot['url'].split('/')[-1]\n",
    "   wget.download(vot['url'],out=f'pages/{id}.html')"
   ]
  },
  {
   "cell_type": "code",
   "execution_count": 8,
   "metadata": {
    "editable": true,
    "scrolled": true,
    "slideshow": {
     "slide_type": ""
    },
    "tags": []
   },
   "outputs": [
    {
     "name": "stdout",
     "output_type": "stream",
     "text": [
      "10.html\n"
     ]
    }
   ],
   "source": [
    "members=dict()\n",
    "for page in os.listdir('pages/'):\n",
    "    with open(f\"pages/{page}\", 'r',encoding='utf8') as f:\n",
    "        webpage = f.read()\n",
    "        webpage.replace(\"\\\\u200c\",'')\n",
    "        print(page)\n",
    "        soup = bs4.BeautifulSoup(webpage)\n",
    "        break\n",
    "        "
   ]
  },
  {
   "cell_type": "code",
   "execution_count": null,
   "metadata": {},
   "outputs": [],
   "source": [
    "stat_dict={\n",
    "            '----':'absence',\n",
    "            'عدم مشارکت':\"non-participant\",\n",
    "            'مخالف':'against',\n",
    "            'موافق':'favor',\n",
    "            'ممتنع':'abstaining'\n",
    "        }\n",
    "def get_day_data(soup,date_:str):\n",
    "    vote_title=soup.select_one('#page-wrapper > div.row > div.col-lg-12 > div > div.panel-footer').text\n",
    "    vote_title=' '.join( vote_title.split())\n",
    "    stats=soup.select('.inner h3')\n",
    "    favor,against,abstaining ,members_count=map(lambda x: x.text,stats)\n",
    "    data=soup.find_all('tr')[1:]\n",
    "    votes=[]\n",
    "    for row in data:\n",
    "        row=row.find_all('th')\n",
    "\n",
    "        img_url=row[0].find('img')['src']\n",
    "        mem_id=img_url.split('/')[-1].split('.')[0]\n",
    "        if os.path.exists(f'images/{img_url.split(\"/\")[-1]}')== False:\n",
    "            wget.download(base_url+img_url,f'images/{img_url.split(\"/\")[-1]}')\n",
    "        family_city=' '.join(row[2].text.split())\n",
    "        paran=family_city.index('(')\n",
    "\n",
    "        \n",
    "\n",
    "        d={\n",
    "        'img_url':img_url,\n",
    "        'id':mem_id,\n",
    "        'name':' '.join(row[1].text.split()),\n",
    "        'date':date_,\n",
    "        'family_city':family_city,\n",
    "        'family':family_city[:paran],\n",
    "        'city':family_city[paran:].replace('(','').replace(')',''),\n",
    "        'stat':stat_dict[ ' '.join(row[4].text.split())]\n",
    "        }\n",
    "        if d['id'] not in members:\n",
    "            members[d['id']]=[\n",
    "                d['name'],\n",
    "                d['family'],\n",
    "                d['city']]\n",
    "        votes.append(d)\n",
    "    return [favor,against,abstaining,date_ ,members_count,votes]\n",
    "get_day_data(soup,'//')"
   ]
  },
  {
   "cell_type": "code",
   "execution_count": 10,
   "metadata": {},
   "outputs": [
    {
     "data": {
      "text/plain": [
       "79"
      ]
     },
     "execution_count": 10,
     "metadata": {},
     "output_type": "execute_result"
    }
   ],
   "source": [
    "soup.find_all('tr')[1:].__len__()"
   ]
  },
  {
   "cell_type": "code",
   "execution_count": null,
   "metadata": {},
   "outputs": [],
   "source": []
  }
 ],
 "metadata": {
  "interpreter": {
   "hash": "deffa21a5db72cc77027fafb760c8b9d8ec6d0843b8d14fb96b09bf796c71ce7"
  },
  "kernelspec": {
   "display_name": "Python 3 (ipykernel)",
   "language": "python",
   "name": "python3"
  },
  "language_info": {
   "codemirror_mode": {
    "name": "ipython",
    "version": 3
   },
   "file_extension": ".py",
   "mimetype": "text/x-python",
   "name": "python",
   "nbconvert_exporter": "python",
   "pygments_lexer": "ipython3",
   "version": "3.10.2"
  }
 },
 "nbformat": 4,
 "nbformat_minor": 4
}
