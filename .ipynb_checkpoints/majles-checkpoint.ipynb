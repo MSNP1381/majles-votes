{
 "cells": [
  {
   "cell_type": "code",
   "execution_count": 1,
   "metadata": {},
   "outputs": [],
   "source": [
    "import bs4\n",
    "import jdatetime\n",
    "import json\n",
    "import re\n",
    "import os\n",
    "import requests\n",
    "import urllib3\n",
    "import tqdm\n",
    "import wget\n",
    "import pandas as pd"
   ]
  },
  {
   "cell_type": "code",
   "execution_count": 2,
   "metadata": {},
   "outputs": [],
   "source": [
    "base_url='https://trvotes.parliran.ir'"
   ]
  },
  {
   "cell_type": "code",
   "execution_count": 21,
   "metadata": {},
   "outputs": [],
   "source": [
    "with open(\"index.html\", 'r',encoding='utf8') as f:\n",
    "    webpage = f.read()"
   ]
  },
  {
   "cell_type": "code",
   "execution_count": 4,
   "metadata": {},
   "outputs": [],
   "source": [
    "soup = bs4.BeautifulSoup(webpage)"
   ]
  },
  {
   "cell_type": "code",
   "execution_count": 5,
   "metadata": {},
   "outputs": [],
   "source": [
    "votes=soup.find_all('tr')[1:]"
   ]
  },
  {
   "cell_type": "code",
   "execution_count": 6,
   "metadata": {},
   "outputs": [],
   "source": [
    "votes_parsed=[]\n",
    "for vote in votes:\n",
    "    title,time,url=vote.findAll('td')\n",
    "    title=' '.join( title.text.split())\n",
    "    time=time.text.replace('\\n','').replace(' ','')\n",
    "    # time=jdatetime.datetime.strptime(time,'%Y/%m/%d')\n",
    "    url=base_url+url.find('a')['href']\n",
    "    votes_parsed.append({'title':title,'time':time,'url':url})"
   ]
  },
  {
   "cell_type": "code",
   "execution_count": 7,
   "metadata": {},
   "outputs": [],
   "source": [
    "with open('parsed.json','w',encoding='utf8') as f:\n",
    "    t=json.dumps(votes_parsed,ensure_ascii=False)\n",
    "    f.write(t)"
   ]
  },
  {
   "cell_type": "code",
   "execution_count": 9,
   "metadata": {
    "editable": true,
    "scrolled": true,
    "slideshow": {
     "slide_type": ""
    },
    "tags": []
   },
   "outputs": [
    {
     "name": "stdout",
     "output_type": "stream",
     "text": [
      "10.html\n"
     ]
    }
   ],
   "source": [
    "members=dict()\n",
    "for page in os.listdir('pages/'):\n",
    "    with open(f\"pages/{page}\", 'r',encoding='utf8') as f:\n",
    "        webpage = f.read()\n",
    "        print(page)\n",
    "        soup = bs4.BeautifulSoup(webpage)\n",
    "        break\n",
    "        "
   ]
  },
  {
   "cell_type": "code",
   "execution_count": 4,
   "metadata": {},
   "outputs": [],
   "source": [
    "def get_data(soup,date_:str):\n",
    "    vote_title=soup.select_one('#page-wrapper > div.row > div.col-lg-12 > div > div.panel-footer').text\n",
    "    vote_title=' '.join( vote_title.split())\n",
    "    stats=soup.select('.inner h3')\n",
    "    favor,against,abstaining ,members_count=map(lambda x: x.text,stats)\n",
    "    data=soup.find_all('tr')[1:]\n",
    "    for row in data:\n",
    "        row=row.find_all('th')\n",
    "        img_url=row[0].find('img')['src']\n",
    "        wget.download(img_url,'images/'),\n",
    "        family_city=' '.join(row[1].text.split())\n",
    "        d={\n",
    "        img_url:img_url,\n",
    "        id:img_url.split('/')[-1].split('.')[0],\n",
    "        name:' '.join(row[1].text.split()),\n",
    "        date:date_,\n",
    "        family_city:family_city,\n",
    "        paran:row[2].text.index('('),\n",
    "        family:family_city[:paran],\n",
    "        city:family_city[paran:].replace(['(',')'],'')\n",
    "        }\n",
    "        members[d['id']]=[\n",
    "            d['name'],\n",
    "            d['family'],\n",
    "            d['city']\n",
    "                         ]\n",
    "        \n",
    "get_data(soup)"
   ]
  },
  {
   "cell_type": "code",
   "execution_count": 18,
   "metadata": {},
   "outputs": [],
   "source": [
    "members=dict()"
   ]
  },
  {
   "cell_type": "code",
   "execution_count": 7,
   "metadata": {},
   "outputs": [],
   "source": [
    "stats=soup.select('.inner h3')\n",
    "favor,against,abstaining ,members_count=map(lambda x: x.text,stats)"
   ]
  },
  {
   "cell_type": "code",
   "execution_count": 13,
   "metadata": {},
   "outputs": [
    {
     "data": {
      "text/plain": [
       "<tr id=\"Votes_73130\">\n",
       "<th>\n",
       "<img class=\"Deputyavatar\" src=\"/Content/deputyimg/11004.jpg\"/>\n",
       "</th>\n",
       "<th>\n",
       "\n",
       "                                \n",
       "                                الهام\n",
       "                            </th>\n",
       "<th>\n",
       "                                آزاد (نايين)\n",
       "                            </th>\n",
       "<th>\n",
       "                                عدم حضور\n",
       "                            </th>\n",
       "<th>\n",
       "\n",
       "                                ----\n",
       "                            </th>\n",
       "</tr>"
      ]
     },
     "execution_count": 13,
     "metadata": {},
     "output_type": "execute_result"
    }
   ],
   "source": [
    "soup.find_all('tr')[1]"
   ]
  },
  {
   "cell_type": "code",
   "execution_count": 23,
   "metadata": {},
   "outputs": [],
   "source": [
    "row=soup.find_all('tr')[1].find_all('th')"
   ]
  },
  {
   "cell_type": "code",
   "execution_count": 30,
   "metadata": {},
   "outputs": [
    {
     "data": {
      "text/plain": [
       "<th>\n",
       "<img class=\"Deputyavatar\" src=\"/Content/deputyimg/11004.jpg\"/>\n",
       "</th>"
      ]
     },
     "execution_count": 30,
     "metadata": {},
     "output_type": "execute_result"
    }
   ],
   "source": [
    "row[0]"
   ]
  },
  {
   "cell_type": "code",
   "execution_count": 31,
   "metadata": {},
   "outputs": [],
   "source": [
    "image,name,family,city,stat=range(5)\n"
   ]
  },
  {
   "cell_type": "code",
   "execution_count": null,
   "metadata": {},
   "outputs": [],
   "source": []
  }
 ],
 "metadata": {
  "interpreter": {
   "hash": "deffa21a5db72cc77027fafb760c8b9d8ec6d0843b8d14fb96b09bf796c71ce7"
  },
  "kernelspec": {
   "display_name": "Python 3 (ipykernel)",
   "language": "python",
   "name": "python3"
  },
  "language_info": {
   "codemirror_mode": {
    "name": "ipython",
    "version": 3
   },
   "file_extension": ".py",
   "mimetype": "text/x-python",
   "name": "python",
   "nbconvert_exporter": "python",
   "pygments_lexer": "ipython3",
   "version": "3.10.2"
  }
 },
 "nbformat": 4,
 "nbformat_minor": 4
}
