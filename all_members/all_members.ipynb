{
 "cells": [
  {
   "cell_type": "code",
   "execution_count": 1,
   "metadata": {},
   "outputs": [],
   "source": [
    "import bs4\n",
    "import jdatetime\n",
    "import json\n",
    "import re\n",
    "import os\n",
    "import requests\n",
    "import urllib3\n",
    "import tqdm\n",
    "import wget\n",
    "import pandas as pd\n",
    "import pymongo"
   ]
  },
  {
   "cell_type": "code",
   "execution_count": 2,
   "metadata": {},
   "outputs": [],
   "source": [
    "myclient = pymongo.MongoClient(\"mongodb://localhost:27017/\")\n",
    "mydb = myclient[\"majles\"]\n"
   ]
  },
  {
   "cell_type": "code",
   "execution_count": 3,
   "metadata": {},
   "outputs": [],
   "source": [
    "mycol = mydb[\"memberDetails\"]\n"
   ]
  },
  {
   "cell_type": "code",
   "execution_count": 5,
   "metadata": {},
   "outputs": [
    {
     "ename": "AttributeError",
     "evalue": "'str' object has no attribute 'in_transaction'",
     "output_type": "error",
     "traceback": [
      "\u001b[1;31m---------------------------------------------------------------------------\u001b[0m",
      "\u001b[1;31mAttributeError\u001b[0m                            Traceback (most recent call last)",
      "\u001b[1;32mc:\\Users\\muhammadS\\Desktop\\majles\\all_members\\all_members.ipynb Cell 4\u001b[0m line \u001b[0;36m1\n\u001b[1;32m----> <a href='vscode-notebook-cell:/c%3A/Users/muhammadS/Desktop/majles/all_members/all_members.ipynb#W3sZmlsZQ%3D%3D?line=0'>1</a>\u001b[0m mycol\u001b[39m.\u001b[39;49mdrop(\u001b[39m\"\u001b[39;49m\u001b[39m \u001b[39;49m\u001b[39m{\u001b[39;49m\u001b[39m writeConcern: \u001b[39;49m\u001b[39m{\u001b[39;49m\u001b[39m w: 1 } }\u001b[39;49m\u001b[39m\"\u001b[39;49m)\n",
      "File \u001b[1;32mc:\\Users\\muhammadS\\AppData\\Local\\Programs\\Python\\Python310\\lib\\site-packages\\pymongo\\collection.py:1246\u001b[0m, in \u001b[0;36mCollection.drop\u001b[1;34m(self, session, comment, encrypted_fields)\u001b[0m\n\u001b[0;32m   1212\u001b[0m \u001b[39m\u001b[39m\u001b[39m\"\"\"Alias for :meth:`~pymongo.database.Database.drop_collection`.\u001b[39;00m\n\u001b[0;32m   1213\u001b[0m \n\u001b[0;32m   1214\u001b[0m \u001b[39m:Parameters:\u001b[39;00m\n\u001b[1;32m   (...)\u001b[0m\n\u001b[0;32m   1237\u001b[0m \u001b[39m   Added ``session`` parameter.\u001b[39;00m\n\u001b[0;32m   1238\u001b[0m \u001b[39m\"\"\"\u001b[39;00m\n\u001b[0;32m   1239\u001b[0m dbo \u001b[39m=\u001b[39m \u001b[39mself\u001b[39m\u001b[39m.\u001b[39m__database\u001b[39m.\u001b[39mclient\u001b[39m.\u001b[39mget_database(\n\u001b[0;32m   1240\u001b[0m     \u001b[39mself\u001b[39m\u001b[39m.\u001b[39m__database\u001b[39m.\u001b[39mname,\n\u001b[0;32m   1241\u001b[0m     \u001b[39mself\u001b[39m\u001b[39m.\u001b[39mcodec_options,\n\u001b[1;32m   (...)\u001b[0m\n\u001b[0;32m   1244\u001b[0m     \u001b[39mself\u001b[39m\u001b[39m.\u001b[39mread_concern,\n\u001b[0;32m   1245\u001b[0m )\n\u001b[1;32m-> 1246\u001b[0m dbo\u001b[39m.\u001b[39;49mdrop_collection(\n\u001b[0;32m   1247\u001b[0m     \u001b[39mself\u001b[39;49m\u001b[39m.\u001b[39;49m__name, session\u001b[39m=\u001b[39;49msession, comment\u001b[39m=\u001b[39;49mcomment, encrypted_fields\u001b[39m=\u001b[39;49mencrypted_fields\n\u001b[0;32m   1248\u001b[0m )\n",
      "File \u001b[1;32mc:\\Users\\muhammadS\\AppData\\Local\\Programs\\Python\\Python310\\lib\\site-packages\\pymongo\\_csot.py:108\u001b[0m, in \u001b[0;36mapply.<locals>.csot_wrapper\u001b[1;34m(self, *args, **kwargs)\u001b[0m\n\u001b[0;32m    106\u001b[0m         \u001b[39mwith\u001b[39;00m _TimeoutContext(timeout):\n\u001b[0;32m    107\u001b[0m             \u001b[39mreturn\u001b[39;00m func(\u001b[39mself\u001b[39m, \u001b[39m*\u001b[39margs, \u001b[39m*\u001b[39m\u001b[39m*\u001b[39mkwargs)\n\u001b[1;32m--> 108\u001b[0m \u001b[39mreturn\u001b[39;00m func(\u001b[39mself\u001b[39m, \u001b[39m*\u001b[39margs, \u001b[39m*\u001b[39m\u001b[39m*\u001b[39mkwargs)\n",
      "File \u001b[1;32mc:\\Users\\muhammadS\\AppData\\Local\\Programs\\Python\\Python310\\lib\\site-packages\\pymongo\\database.py:1245\u001b[0m, in \u001b[0;36mDatabase.drop_collection\u001b[1;34m(self, name_or_collection, session, comment, encrypted_fields)\u001b[0m\n\u001b[0;32m   1238\u001b[0m     \u001b[39mself\u001b[39m\u001b[39m.\u001b[39m_drop_helper(\n\u001b[0;32m   1239\u001b[0m         _esc_coll_name(encrypted_fields, name), session\u001b[39m=\u001b[39msession, comment\u001b[39m=\u001b[39mcomment\n\u001b[0;32m   1240\u001b[0m     )\n\u001b[0;32m   1241\u001b[0m     \u001b[39mself\u001b[39m\u001b[39m.\u001b[39m_drop_helper(\n\u001b[0;32m   1242\u001b[0m         _ecoc_coll_name(encrypted_fields, name), session\u001b[39m=\u001b[39msession, comment\u001b[39m=\u001b[39mcomment\n\u001b[0;32m   1243\u001b[0m     )\n\u001b[1;32m-> 1245\u001b[0m \u001b[39mreturn\u001b[39;00m \u001b[39mself\u001b[39;49m\u001b[39m.\u001b[39;49m_drop_helper(name, session, comment)\n",
      "File \u001b[1;32mc:\\Users\\muhammadS\\AppData\\Local\\Programs\\Python\\Python310\\lib\\site-packages\\pymongo\\database.py:1158\u001b[0m, in \u001b[0;36mDatabase._drop_helper\u001b[1;34m(self, name, session, comment)\u001b[0m\n\u001b[0;32m   1155\u001b[0m \u001b[39mif\u001b[39;00m comment \u001b[39mis\u001b[39;00m \u001b[39mnot\u001b[39;00m \u001b[39mNone\u001b[39;00m:\n\u001b[0;32m   1156\u001b[0m     command[\u001b[39m\"\u001b[39m\u001b[39mcomment\u001b[39m\u001b[39m\"\u001b[39m] \u001b[39m=\u001b[39m comment\n\u001b[1;32m-> 1158\u001b[0m \u001b[39mwith\u001b[39;00m \u001b[39mself\u001b[39;49m\u001b[39m.\u001b[39;49m__client\u001b[39m.\u001b[39;49m_conn_for_writes(session) \u001b[39mas\u001b[39;00m connection:\n\u001b[0;32m   1159\u001b[0m     \u001b[39mreturn\u001b[39;00m \u001b[39mself\u001b[39m\u001b[39m.\u001b[39m_command(\n\u001b[0;32m   1160\u001b[0m         connection,\n\u001b[0;32m   1161\u001b[0m         command,\n\u001b[1;32m   (...)\u001b[0m\n\u001b[0;32m   1165\u001b[0m         session\u001b[39m=\u001b[39msession,\n\u001b[0;32m   1166\u001b[0m     )\n",
      "File \u001b[1;32mc:\\Users\\muhammadS\\AppData\\Local\\Programs\\Python\\Python310\\lib\\site-packages\\pymongo\\mongo_client.py:1307\u001b[0m, in \u001b[0;36mMongoClient._conn_for_writes\u001b[1;34m(self, session)\u001b[0m\n\u001b[0;32m   1306\u001b[0m \u001b[39mdef\u001b[39;00m \u001b[39m_conn_for_writes\u001b[39m(\u001b[39mself\u001b[39m, session: Optional[ClientSession]) \u001b[39m-\u001b[39m\u001b[39m>\u001b[39m ContextManager[Connection]:\n\u001b[1;32m-> 1307\u001b[0m     server \u001b[39m=\u001b[39m \u001b[39mself\u001b[39;49m\u001b[39m.\u001b[39;49m_select_server(writable_server_selector, session)\n\u001b[0;32m   1308\u001b[0m     \u001b[39mreturn\u001b[39;00m \u001b[39mself\u001b[39m\u001b[39m.\u001b[39m_checkout(server, session)\n",
      "File \u001b[1;32mc:\\Users\\muhammadS\\AppData\\Local\\Programs\\Python\\Python310\\lib\\site-packages\\pymongo\\mongo_client.py:1287\u001b[0m, in \u001b[0;36mMongoClient._select_server\u001b[1;34m(self, server_selector, session, address)\u001b[0m\n\u001b[0;32m   1285\u001b[0m \u001b[39mtry\u001b[39;00m:\n\u001b[0;32m   1286\u001b[0m     topology \u001b[39m=\u001b[39m \u001b[39mself\u001b[39m\u001b[39m.\u001b[39m_get_topology()\n\u001b[1;32m-> 1287\u001b[0m     \u001b[39mif\u001b[39;00m session \u001b[39mand\u001b[39;00m \u001b[39mnot\u001b[39;00m session\u001b[39m.\u001b[39;49min_transaction:\n\u001b[0;32m   1288\u001b[0m         session\u001b[39m.\u001b[39m_transaction\u001b[39m.\u001b[39mreset()\n\u001b[0;32m   1289\u001b[0m     \u001b[39mif\u001b[39;00m \u001b[39mnot\u001b[39;00m address \u001b[39mand\u001b[39;00m session:\n",
      "\u001b[1;31mAttributeError\u001b[0m: 'str' object has no attribute 'in_transaction'"
     ]
    }
   ],
   "source": [
    "mycol.drop(\" { writeConcern: { w: 1 } }\")"
   ]
  },
  {
   "cell_type": "code",
   "execution_count": null,
   "metadata": {},
   "outputs": [],
   "source": []
  }
 ],
 "metadata": {
  "kernelspec": {
   "display_name": "Python 3",
   "language": "python",
   "name": "python3"
  },
  "language_info": {
   "codemirror_mode": {
    "name": "ipython",
    "version": 3
   },
   "file_extension": ".py",
   "mimetype": "text/x-python",
   "name": "python",
   "nbconvert_exporter": "python",
   "pygments_lexer": "ipython3",
   "version": "3.10.2"
  },
  "orig_nbformat": 4
 },
 "nbformat": 4,
 "nbformat_minor": 2
}
