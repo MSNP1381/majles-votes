{
 "cells": [
  {
   "cell_type": "code",
   "execution_count": 46,
   "metadata": {},
   "outputs": [],
   "source": [
    "import pandas as pd, json\n",
    "import psycopg2,datetime"
   ]
  },
  {
   "cell_type": "code",
   "execution_count": 47,
   "metadata": {},
   "outputs": [],
   "source": [
    "class Members:\n",
    "    def __init__(\n",
    "        self,\n",
    "        MemId: int,\n",
    "        Name: str,\n",
    "        Family: str,\n",
    "        Region: str,\n",
    "        ImageUrl: str,\n",
    "    ):\n",
    "        self.MemId=MemId\n",
    "        self.Name=Name\n",
    "        self.Family=Family\n",
    "        self.Region=Region\n",
    "        self.ImageUrl=ImageUrl\n",
    "        self.IsClarified=False\n",
    "        self.EditTime=datetime.datetime.now().isoformat()\n"
   ]
  },
  {
   "cell_type": "code",
   "execution_count": 48,
   "metadata": {},
   "outputs": [],
   "source": [
    "with open(\"all_members.json\") as f:\n",
    "    j = json.load(f)"
   ]
  },
  {
   "cell_type": "code",
   "execution_count": 49,
   "metadata": {},
   "outputs": [],
   "source": [
    "mems = []\n",
    "images = []\n",
    "for i in j:\n",
    "    m = Members(\n",
    "        MemId=i[\"MemId\"],\n",
    "        Name=i[\"FullName\"],\n",
    "        Family=None,\n",
    "        Region=i[\"ChooseRegion\"],\n",
    "        ImageUrl=f\"https://majles.iran.liara.run/api/TrVotes/GetMemberImage/{i['MemId']}\",\n",
    "    )\n",
    "    mems.append(m)\n",
    "    images.append(f\"https://www.parliran.ir/uploads/previmages/n11/{i['MemId']}.jpg\")"
   ]
  },
  {
   "cell_type": "code",
   "execution_count": 50,
   "metadata": {},
   "outputs": [],
   "source": [
    "mems_dict=[i.__dict__ for i in mems ]\n",
    "df=pd.DataFrame(mems_dict)"
   ]
  },
  {
   "cell_type": "code",
   "execution_count": 53,
   "metadata": {},
   "outputs": [],
   "source": [
    "df.to_csv(\"res.csv\",index=False)"
   ]
  },
  {
   "cell_type": "code",
   "execution_count": null,
   "metadata": {},
   "outputs": [],
   "source": []
  }
 ],
 "metadata": {
  "kernelspec": {
   "display_name": "base",
   "language": "python",
   "name": "python3"
  },
  "language_info": {
   "codemirror_mode": {
    "name": "ipython",
    "version": 3
   },
   "file_extension": ".py",
   "mimetype": "text/x-python",
   "name": "python",
   "nbconvert_exporter": "python",
   "pygments_lexer": "ipython3",
   "version": "3.11.4"
  }
 },
 "nbformat": 4,
 "nbformat_minor": 2
}
